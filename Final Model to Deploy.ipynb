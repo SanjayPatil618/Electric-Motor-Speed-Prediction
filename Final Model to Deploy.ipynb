{
 "cells": [
  {
   "cell_type": "code",
   "execution_count": 1,
   "id": "28fc97dd",
   "metadata": {},
   "outputs": [],
   "source": [
    "import pandas as pd\n",
    "from pickle import dump\n",
    "from pickle import load\n",
    "from sklearn.metrics import r2_score,mean_squared_error\n",
    "from sklearn.ensemble import AdaBoostRegressor\n",
    "from sklearn.tree import DecisionTreeRegressor\n",
    "import warnings\n",
    "warnings.filterwarnings(\"ignore\")"
   ]
  },
  {
   "cell_type": "code",
   "execution_count": 2,
   "id": "21ab6d90",
   "metadata": {},
   "outputs": [
    {
     "data": {
      "text/html": [
       "<div>\n",
       "<style scoped>\n",
       "    .dataframe tbody tr th:only-of-type {\n",
       "        vertical-align: middle;\n",
       "    }\n",
       "\n",
       "    .dataframe tbody tr th {\n",
       "        vertical-align: top;\n",
       "    }\n",
       "\n",
       "    .dataframe thead th {\n",
       "        text-align: right;\n",
       "    }\n",
       "</style>\n",
       "<table border=\"1\" class=\"dataframe\">\n",
       "  <thead>\n",
       "    <tr style=\"text-align: right;\">\n",
       "      <th></th>\n",
       "      <th>u_q</th>\n",
       "      <th>u_d</th>\n",
       "      <th>i_d</th>\n",
       "      <th>pm</th>\n",
       "      <th>motor_speed</th>\n",
       "    </tr>\n",
       "  </thead>\n",
       "  <tbody>\n",
       "    <tr>\n",
       "      <th>0</th>\n",
       "      <td>-1.297858</td>\n",
       "      <td>0.327935</td>\n",
       "      <td>1.029572</td>\n",
       "      <td>-2.522071</td>\n",
       "      <td>-1.222428</td>\n",
       "    </tr>\n",
       "    <tr>\n",
       "      <th>1</th>\n",
       "      <td>-1.297686</td>\n",
       "      <td>0.329665</td>\n",
       "      <td>1.029509</td>\n",
       "      <td>-2.522418</td>\n",
       "      <td>-1.222429</td>\n",
       "    </tr>\n",
       "    <tr>\n",
       "      <th>2</th>\n",
       "      <td>-1.301822</td>\n",
       "      <td>0.332771</td>\n",
       "      <td>1.029448</td>\n",
       "      <td>-2.522673</td>\n",
       "      <td>-1.222428</td>\n",
       "    </tr>\n",
       "    <tr>\n",
       "      <th>3</th>\n",
       "      <td>-1.301852</td>\n",
       "      <td>0.333700</td>\n",
       "      <td>1.032845</td>\n",
       "      <td>-2.521639</td>\n",
       "      <td>-1.222430</td>\n",
       "    </tr>\n",
       "    <tr>\n",
       "      <th>4</th>\n",
       "      <td>-1.303118</td>\n",
       "      <td>0.335206</td>\n",
       "      <td>1.031807</td>\n",
       "      <td>-2.521900</td>\n",
       "      <td>-1.222429</td>\n",
       "    </tr>\n",
       "    <tr>\n",
       "      <th>...</th>\n",
       "      <td>...</td>\n",
       "      <td>...</td>\n",
       "      <td>...</td>\n",
       "      <td>...</td>\n",
       "      <td>...</td>\n",
       "    </tr>\n",
       "    <tr>\n",
       "      <th>814991</th>\n",
       "      <td>-1.246114</td>\n",
       "      <td>0.331475</td>\n",
       "      <td>1.029142</td>\n",
       "      <td>0.429853</td>\n",
       "      <td>-1.222428</td>\n",
       "    </tr>\n",
       "    <tr>\n",
       "      <th>814992</th>\n",
       "      <td>-1.250655</td>\n",
       "      <td>0.331701</td>\n",
       "      <td>1.029148</td>\n",
       "      <td>0.429751</td>\n",
       "      <td>-1.222437</td>\n",
       "    </tr>\n",
       "    <tr>\n",
       "      <th>814993</th>\n",
       "      <td>-1.246852</td>\n",
       "      <td>0.330946</td>\n",
       "      <td>1.029191</td>\n",
       "      <td>0.429439</td>\n",
       "      <td>-1.222430</td>\n",
       "    </tr>\n",
       "    <tr>\n",
       "      <th>814994</th>\n",
       "      <td>-1.249505</td>\n",
       "      <td>0.330987</td>\n",
       "      <td>1.029147</td>\n",
       "      <td>0.429558</td>\n",
       "      <td>-1.222432</td>\n",
       "    </tr>\n",
       "    <tr>\n",
       "      <th>814995</th>\n",
       "      <td>-1.246590</td>\n",
       "      <td>0.330830</td>\n",
       "      <td>1.029141</td>\n",
       "      <td>0.429166</td>\n",
       "      <td>-1.222431</td>\n",
       "    </tr>\n",
       "  </tbody>\n",
       "</table>\n",
       "<p>814996 rows × 5 columns</p>\n",
       "</div>"
      ],
      "text/plain": [
       "             u_q       u_d       i_d        pm  motor_speed\n",
       "0      -1.297858  0.327935  1.029572 -2.522071    -1.222428\n",
       "1      -1.297686  0.329665  1.029509 -2.522418    -1.222429\n",
       "2      -1.301822  0.332771  1.029448 -2.522673    -1.222428\n",
       "3      -1.301852  0.333700  1.032845 -2.521639    -1.222430\n",
       "4      -1.303118  0.335206  1.031807 -2.521900    -1.222429\n",
       "...          ...       ...       ...       ...          ...\n",
       "814991 -1.246114  0.331475  1.029142  0.429853    -1.222428\n",
       "814992 -1.250655  0.331701  1.029148  0.429751    -1.222437\n",
       "814993 -1.246852  0.330946  1.029191  0.429439    -1.222430\n",
       "814994 -1.249505  0.330987  1.029147  0.429558    -1.222432\n",
       "814995 -1.246590  0.330830  1.029141  0.429166    -1.222431\n",
       "\n",
       "[814996 rows x 5 columns]"
      ]
     },
     "execution_count": 2,
     "metadata": {},
     "output_type": "execute_result"
    }
   ],
   "source": [
    "df = pd.read_csv('VIF.csv')\n",
    "df"
   ]
  },
  {
   "cell_type": "code",
   "execution_count": 17,
   "id": "c5b435ec",
   "metadata": {},
   "outputs": [],
   "source": [
    "array = df.values\n",
    "x = array[:,0:4]\n",
    "y = array[:,-1]"
   ]
  },
  {
   "cell_type": "code",
   "execution_count": 18,
   "id": "ba2714df",
   "metadata": {},
   "outputs": [
    {
     "data": {
      "text/plain": [
       "array([[-1.2978575 ,  0.3279352 ,  1.0295724 , -2.522071  ],\n",
       "       [-1.2976865 ,  0.3296648 ,  1.029509  , -2.5224178 ],\n",
       "       [-1.3018217 ,  0.3327715 ,  1.0294477 , -2.5226731 ],\n",
       "       ...,\n",
       "       [-1.2468519 ,  0.33094567,  1.0291907 ,  0.4294391 ],\n",
       "       [-1.2495048 ,  0.33098695,  1.0291469 ,  0.42955777],\n",
       "       [-1.2465905 ,  0.33082953,  1.0291408 ,  0.4291662 ]])"
      ]
     },
     "execution_count": 18,
     "metadata": {},
     "output_type": "execute_result"
    }
   ],
   "source": [
    "x"
   ]
  },
  {
   "cell_type": "code",
   "execution_count": 19,
   "id": "7509fb19",
   "metadata": {},
   "outputs": [
    {
     "data": {
      "text/plain": [
       "array([-1.2224282, -1.2224293, -1.2224278, ..., -1.2224296, -1.222432 ,\n",
       "       -1.2224313])"
      ]
     },
     "execution_count": 19,
     "metadata": {},
     "output_type": "execute_result"
    }
   ],
   "source": [
    "y"
   ]
  },
  {
   "cell_type": "markdown",
   "id": "02001b1b",
   "metadata": {},
   "source": [
    "## Model Building"
   ]
  },
  {
   "cell_type": "code",
   "execution_count": 20,
   "id": "fdfe26b3",
   "metadata": {},
   "outputs": [
    {
     "data": {
      "text/plain": [
       "AdaBoostRegressor(base_estimator=DecisionTreeRegressor(max_depth=30))"
      ]
     },
     "execution_count": 20,
     "metadata": {},
     "output_type": "execute_result"
    }
   ],
   "source": [
    "dtree=DecisionTreeRegressor(max_depth=30)\n",
    "model = AdaBoostRegressor(base_estimator = dtree)\n",
    "model.fit(x,y)"
   ]
  },
  {
   "cell_type": "code",
   "execution_count": 21,
   "id": "4043b1d4",
   "metadata": {},
   "outputs": [],
   "source": [
    "# Predicting the model\n",
    "pred = model.predict(x)\n",
    "acc = r2_score(y,pred)\n",
    "err = mean_squared_error(y,pred)"
   ]
  },
  {
   "cell_type": "code",
   "execution_count": 22,
   "id": "39479349",
   "metadata": {},
   "outputs": [
    {
     "name": "stdout",
     "output_type": "stream",
     "text": [
      " Accuracy :  0.9999999241837266\n",
      "Error :  8.46453735912195e-08\n"
     ]
    }
   ],
   "source": [
    "print(\" Accuracy : \",acc)\n",
    "print(\"Error : \",err)"
   ]
  },
  {
   "cell_type": "markdown",
   "id": "faa51f73",
   "metadata": {},
   "source": [
    "## Saving our model"
   ]
  },
  {
   "cell_type": "code",
   "execution_count": 23,
   "id": "89dec9a8",
   "metadata": {},
   "outputs": [],
   "source": [
    "dump(model, open('adaboost.sav', 'wb'))"
   ]
  },
  {
   "cell_type": "code",
   "execution_count": 24,
   "id": "2c33e3ba",
   "metadata": {},
   "outputs": [
    {
     "name": "stdout",
     "output_type": "stream",
     "text": [
      "0.9999999241837266\n"
     ]
    }
   ],
   "source": [
    "loaded_model = load(open('adaboost.sav', 'rb'))\n",
    "result = loaded_model.score(x, y)\n",
    "print(result)"
   ]
  },
  {
   "cell_type": "markdown",
   "id": "1d417b59",
   "metadata": {},
   "source": [
    "## Deployment of Model"
   ]
  },
  {
   "cell_type": "code",
   "execution_count": 25,
   "id": "0cb77249",
   "metadata": {},
   "outputs": [],
   "source": [
    "import streamlit"
   ]
  },
  {
   "cell_type": "code",
   "execution_count": 26,
   "id": "6adfe19d",
   "metadata": {},
   "outputs": [
    {
     "name": "stdout",
     "output_type": "stream",
     "text": [
      "^C\n"
     ]
    }
   ],
   "source": [
    "!streamlit run deploy.py"
   ]
  }
 ],
 "metadata": {
  "kernelspec": {
   "display_name": "Python 3 (ipykernel)",
   "language": "python",
   "name": "python3"
  },
  "language_info": {
   "codemirror_mode": {
    "name": "ipython",
    "version": 3
   },
   "file_extension": ".py",
   "mimetype": "text/x-python",
   "name": "python",
   "nbconvert_exporter": "python",
   "pygments_lexer": "ipython3",
   "version": "3.9.13"
  }
 },
 "nbformat": 4,
 "nbformat_minor": 5
}
